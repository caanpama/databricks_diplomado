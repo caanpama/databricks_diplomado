{
 "cells": [
  {
   "cell_type": "markdown",
   "metadata": {
    "application/vnd.databricks.v1+cell": {
     "cellMetadata": {},
     "inputWidgets": {},
     "nuid": "86ba8042-842c-4ed9-8c21-b012f035731c",
     "showTitle": false,
     "tableResultSettingsMap": {},
     "title": ""
    }
   },
   "source": [
    "## Ingesta de datos\n"
   ]
  },
  {
   "cell_type": "code",
   "execution_count": 0,
   "metadata": {
    "application/vnd.databricks.v1+cell": {
     "cellMetadata": {},
     "inputWidgets": {},
     "nuid": "55b576f9-580f-42dd-a1b7-dee559e1b27b",
     "showTitle": false,
     "tableResultSettingsMap": {},
     "title": ""
    }
   },
   "outputs": [],
   "source": [
    "# Paso 1: Descargar los datos con requests y leerlos en pandas\n",
    "import requests\n",
    "import pandas as pd\n",
    "from io import StringIO\n",
    "from pyspark.sql import SparkSession\n",
    "\n",
    "spark = SparkSession.builder.getOrCreate()"
   ]
  },
  {
   "cell_type": "code",
   "execution_count": 0,
   "metadata": {
    "application/vnd.databricks.v1+cell": {
     "cellMetadata": {},
     "inputWidgets": {},
     "nuid": "881a2826-bfb5-456b-b688-4c753a253e11",
     "showTitle": false,
     "tableResultSettingsMap": {},
     "title": ""
    }
   },
   "outputs": [],
   "source": [
    "spark.sql(\"USE CATALOG main\")"
   ]
  },
  {
   "cell_type": "code",
   "execution_count": 0,
   "metadata": {
    "application/vnd.databricks.v1+cell": {
     "cellMetadata": {},
     "inputWidgets": {},
     "nuid": "ce28fef9-4057-4bc7-a5aa-a6313ecc0df4",
     "showTitle": false,
     "tableResultSettingsMap": {},
     "title": ""
    }
   },
   "outputs": [],
   "source": [
    "spark.catalog.listDatabases()"
   ]
  },
  {
   "cell_type": "code",
   "execution_count": 0,
   "metadata": {
    "application/vnd.databricks.v1+cell": {
     "cellMetadata": {},
     "inputWidgets": {},
     "nuid": "608895fe-2c09-4125-9a7b-9eaf5c092bd4",
     "showTitle": false,
     "tableResultSettingsMap": {},
     "title": ""
    }
   },
   "outputs": [],
   "source": [
    "# Descargar MEN\n",
    "url_men = \"https://www.datos.gov.co/resource/nudc-7mev.csv?$limit=100000\"\n",
    "\n",
    "response_men = requests.get(url_men)\n",
    "df_men_pd = pd.read_csv(StringIO(response_men.text))\n",
    "df_men = spark.createDataFrame(df_men_pd)\n",
    "\n",
    "display(df_men)\n",
    "     "
   ]
  },
  {
   "cell_type": "code",
   "execution_count": 0,
   "metadata": {
    "application/vnd.databricks.v1+cell": {
     "cellMetadata": {},
     "inputWidgets": {},
     "nuid": "3f647cd9-1f0d-47e6-8011-26a433a9dc40",
     "showTitle": false,
     "tableResultSettingsMap": {},
     "title": ""
    }
   },
   "outputs": [],
   "source": [
    "spark.sql(\"CREATE SCHEMA IF NOT EXISTS main.diplomado_datos\")\n",
    "\n",
    "df_men.write.format(\"delta\") \\\n",
    "    .mode(\"overwrite\") \\\n",
    "    .saveAsTable(\"main.diplomado_datos.men_estadisticas\")"
   ]
  },
  {
   "cell_type": "code",
   "execution_count": 0,
   "metadata": {
    "application/vnd.databricks.v1+cell": {
     "cellMetadata": {},
     "inputWidgets": {},
     "nuid": "d1781d2d-320d-4c54-a124-6bd22bc73352",
     "showTitle": false,
     "tableResultSettingsMap": {},
     "title": ""
    }
   },
   "outputs": [],
   "source": [
    "total_registros = 19449349\n",
    "limite = 50000     \n",
    "paginas = (total_registros // limite) + 1\n",
    "\n",
    "\n",
    "for i in range(paginas):\n",
    "    offset = i * limite\n",
    "    url_secop = f\"https://www.datos.gov.co/resource/rpmr-utcd.csv?$limit={limite}&$offset={offset}\"\n",
    "\n",
    "    print(f\"Descargando página {i+1}/{paginas} (offset={offset})...\")\n",
    "\n",
    "    response_secop = requests.get(url_secop)\n",
    "\n",
    "    if response_secop.status_code == 200:\n",
    "        df_secop_pd = pd.read_csv(StringIO(response_secop.text), dtype=str)\n",
    "\n",
    "        if df_secop_pd.empty:\n",
    "            print(f\"⚠️ Página {i+1} vacía. Fin de datos.\")\n",
    "            break\n",
    "\n",
    "        df_secop_spark = spark.createDataFrame(df_secop_pd)\n",
    "\n",
    "        df_secop_spark.write.format(\"delta\") \\\n",
    "            .mode(\"append\") \\\n",
    "            .option(\"mergeSchema\", \"true\") \\\n",
    "            .saveAsTable(\"main.diplomado_datos.secop\")\n",
    "\n",
    "        print(f\"✓ Página {i+1} guardada con {len(df_secop_pd)} filas.\")\n",
    "    else:\n",
    "        print(f\"⚠️ Error HTTP {response_secop.status_code}. Deteniendo proceso.\")\n",
    "        break\n",
    "\n",
    "print(\"✅ ¡Carga completa de SECOP en Delta!\")"
   ]
  },
  {
   "cell_type": "code",
   "execution_count": 0,
   "metadata": {
    "application/vnd.databricks.v1+cell": {
     "cellMetadata": {},
     "inputWidgets": {},
     "nuid": "eb0ff8ca-47fa-4268-b8a7-a8f3aa11464f",
     "showTitle": false,
     "tableResultSettingsMap": {},
     "title": ""
    }
   },
   "outputs": [],
   "source": [
    "spark = SparkSession.builder.getOrCreate()\n",
    "\n",
    "# Offset donde falló\n",
    "offset_inicial = 6500000      # Página 131 (6500000 = (131-1)*50000)\n",
    "limite = 50000\n",
    "\n",
    "# Calcula cuántas páginas faltan:\n",
    "total_registros = 19449349\n",
    "paginas_faltantes = (total_registros - offset_inicial) // limite + 1\n",
    "\n",
    "print(f\"➡️ Vamos a descargar {paginas_faltantes} páginas (bloques de {limite}) empezando en offset {offset_inicial}...\")"
   ]
  },
  {
   "cell_type": "code",
   "execution_count": 0,
   "metadata": {
    "application/vnd.databricks.v1+cell": {
     "cellMetadata": {},
     "inputWidgets": {},
     "nuid": "f432a190-ce3f-403f-aa44-0c507e8fcac8",
     "showTitle": false,
     "tableResultSettingsMap": {},
     "title": ""
    }
   },
   "outputs": [],
   "source": [
    "# --------------------------------------------\n",
    "# Loop para continuar descarga\n",
    "# --------------------------------------------\n",
    "\n",
    "for i in range(paginas_faltantes):\n",
    "    offset = offset_inicial + (i * limite)\n",
    "    url_secop = f\"https://www.datos.gov.co/resource/rpmr-utcd.csv?$limit={limite}&$offset={offset}\"\n",
    "    \n",
    "    print(f\"Descargando página {i+1} con offset={offset}...\")\n",
    "\n",
    "    response_secop = requests.get(url_secop)\n",
    "\n",
    "    if response_secop.status_code == 200:\n",
    "        df_secop_pd = pd.read_csv(StringIO(response_secop.text), dtype=str)\n",
    "\n",
    "        if df_secop_pd.empty:\n",
    "            print(f\"⚠️ Página {i+1} vacía. Fin de datos.\")\n",
    "            break\n",
    "\n",
    "        df_secop_spark = spark.createDataFrame(df_secop_pd)\n",
    "\n",
    "        # Graba en Delta en modo append\n",
    "        df_secop_spark.write.format(\"delta\") \\\n",
    "            .mode(\"append\") \\\n",
    "            .option(\"mergeSchema\", \"true\") \\\n",
    "            .saveAsTable(\"main.diplomado_datos.secop\")\n",
    "\n",
    "        print(f\"✓ Página {i+1} guardada con {len(df_secop_pd)} filas.\")\n",
    "    else:\n",
    "        print(f\"⚠️ Error HTTP {response_secop.status_code} en página {i+1}. Deteniendo proceso.\")\n",
    "        break\n",
    "\n",
    "print(\"✅ ¡Carga reanudada de SECOP completada!\")"
   ]
  }
 ],
 "metadata": {
  "application/vnd.databricks.v1+notebook": {
   "computePreferences": null,
   "dashboards": [],
   "environmentMetadata": {
    "base_environment": "",
    "environment_version": "2"
   },
   "inputWidgetPreferences": null,
   "language": "python",
   "notebookMetadata": {
    "pythonIndentUnit": 4
   },
   "notebookName": "Ingesta_datos",
   "widgets": {}
  },
  "language_info": {
   "name": "python"
  }
 },
 "nbformat": 4,
 "nbformat_minor": 0
}
